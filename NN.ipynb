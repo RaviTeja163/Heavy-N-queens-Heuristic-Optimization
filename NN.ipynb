{
 "cells": [
  {
   "cell_type": "code",
   "execution_count": 1,
   "id": "c3d408d1",
   "metadata": {},
   "outputs": [],
   "source": [
    "from pandas import read_csv\n",
    "from tensorflow.keras import Sequential\n",
    "from tensorflow.keras.layers import Dense\n",
    "from tensorflow.keras.wrappers.scikit_learn import KerasRegressor\n",
    "from sklearn.model_selection import cross_val_score\n",
    "from sklearn.pipeline import Pipeline\n",
    "from sklearn.model_selection import train_test_split"
   ]
  },
  {
   "cell_type": "code",
   "execution_count": 2,
   "id": "7d5365cc",
   "metadata": {},
   "outputs": [],
   "source": [
    "import tensorflow as tf"
   ]
  },
  {
   "cell_type": "code",
   "execution_count": 3,
   "id": "a2318b28",
   "metadata": {
    "scrolled": true
   },
   "outputs": [
    {
     "name": "stdout",
     "output_type": "stream",
     "text": [
      "Num GPUs Available:  1\n"
     ]
    },
    {
     "data": {
      "text/plain": [
       "[PhysicalDevice(name='/physical_device:GPU:0', device_type='GPU')]"
      ]
     },
     "execution_count": 3,
     "metadata": {},
     "output_type": "execute_result"
    }
   ],
   "source": [
    "print(\"Num GPUs Available: \", len(tf.config.list_physical_devices('GPU')))\n",
    "tf.config.list_physical_devices('GPU')"
   ]
  },
  {
   "cell_type": "code",
   "execution_count": 4,
   "id": "9fe53a12",
   "metadata": {
    "scrolled": true
   },
   "outputs": [],
   "source": [
    "data = read_csv('Data_5by5_v21.csv')"
   ]
  },
  {
   "cell_type": "code",
   "execution_count": 5,
   "id": "d0976b91",
   "metadata": {},
   "outputs": [],
   "source": [
    "# data.dropna()"
   ]
  },
  {
   "cell_type": "code",
   "execution_count": 6,
   "id": "c8c4fca8",
   "metadata": {},
   "outputs": [
    {
     "data": {
      "text/plain": [
       "(15210, 10)"
      ]
     },
     "execution_count": 6,
     "metadata": {},
     "output_type": "execute_result"
    }
   ],
   "source": [
    "data.shape"
   ]
  },
  {
   "cell_type": "code",
   "execution_count": 7,
   "id": "b1b0d56e",
   "metadata": {},
   "outputs": [
    {
     "data": {
      "text/html": [
       "<div>\n",
       "<style scoped>\n",
       "    .dataframe tbody tr th:only-of-type {\n",
       "        vertical-align: middle;\n",
       "    }\n",
       "\n",
       "    .dataframe tbody tr th {\n",
       "        vertical-align: top;\n",
       "    }\n",
       "\n",
       "    .dataframe thead th {\n",
       "        text-align: right;\n",
       "    }\n",
       "</style>\n",
       "<table border=\"1\" class=\"dataframe\">\n",
       "  <thead>\n",
       "    <tr style=\"text-align: right;\">\n",
       "      <th></th>\n",
       "      <th>Initial Boards</th>\n",
       "      <th>Total Weights^2</th>\n",
       "      <th>Heaviest Queen^2</th>\n",
       "      <th>Lightest Queens^2</th>\n",
       "      <th>Attacks By Heaviest Queen^2</th>\n",
       "      <th>Heaviest Queens Attacks Ratio^2</th>\n",
       "      <th>Total Weights_log</th>\n",
       "      <th>Heaviest Queen_log</th>\n",
       "      <th>Lightest Queens_log</th>\n",
       "      <th>Final Costs</th>\n",
       "    </tr>\n",
       "  </thead>\n",
       "  <tbody>\n",
       "    <tr>\n",
       "      <th>0</th>\n",
       "      <td>[[0 0 0 0 0]\\n [0 6 0 0 9]\\n [0 0 0 0 0]\\n [0 ...</td>\n",
       "      <td>900</td>\n",
       "      <td>81</td>\n",
       "      <td>9</td>\n",
       "      <td>4</td>\n",
       "      <td>0.160000</td>\n",
       "      <td>3.401197</td>\n",
       "      <td>2.197225</td>\n",
       "      <td>1.098612</td>\n",
       "      <td>79</td>\n",
       "    </tr>\n",
       "    <tr>\n",
       "      <th>1</th>\n",
       "      <td>[[0 0 0 0 0]\\n [6 0 2 0 0]\\n [0 0 0 0 0]\\n [0 ...</td>\n",
       "      <td>576</td>\n",
       "      <td>49</td>\n",
       "      <td>4</td>\n",
       "      <td>4</td>\n",
       "      <td>0.111111</td>\n",
       "      <td>3.178054</td>\n",
       "      <td>1.945910</td>\n",
       "      <td>0.693147</td>\n",
       "      <td>68</td>\n",
       "    </tr>\n",
       "    <tr>\n",
       "      <th>2</th>\n",
       "      <td>[[0 0 0 0 0]\\n [3 0 0 0 0]\\n [0 0 0 4 0]\\n [0 ...</td>\n",
       "      <td>576</td>\n",
       "      <td>81</td>\n",
       "      <td>4</td>\n",
       "      <td>4</td>\n",
       "      <td>0.081633</td>\n",
       "      <td>3.178054</td>\n",
       "      <td>2.197225</td>\n",
       "      <td>0.693147</td>\n",
       "      <td>61</td>\n",
       "    </tr>\n",
       "    <tr>\n",
       "      <th>3</th>\n",
       "      <td>[[0 0 0 0 0]\\n [8 0 0 0 0]\\n [0 0 0 0 2]\\n [0 ...</td>\n",
       "      <td>841</td>\n",
       "      <td>81</td>\n",
       "      <td>4</td>\n",
       "      <td>9</td>\n",
       "      <td>0.360000</td>\n",
       "      <td>3.367296</td>\n",
       "      <td>2.197225</td>\n",
       "      <td>0.693147</td>\n",
       "      <td>172</td>\n",
       "    </tr>\n",
       "    <tr>\n",
       "      <th>4</th>\n",
       "      <td>[[0 0 0 0 0]\\n [8 0 0 0 0]\\n [0 0 0 7 0]\\n [0 ...</td>\n",
       "      <td>961</td>\n",
       "      <td>81</td>\n",
       "      <td>9</td>\n",
       "      <td>4</td>\n",
       "      <td>0.049383</td>\n",
       "      <td>3.433987</td>\n",
       "      <td>2.197225</td>\n",
       "      <td>1.098612</td>\n",
       "      <td>107</td>\n",
       "    </tr>\n",
       "  </tbody>\n",
       "</table>\n",
       "</div>"
      ],
      "text/plain": [
       "                                      Initial Boards  Total Weights^2  \\\n",
       "0  [[0 0 0 0 0]\\n [0 6 0 0 9]\\n [0 0 0 0 0]\\n [0 ...              900   \n",
       "1  [[0 0 0 0 0]\\n [6 0 2 0 0]\\n [0 0 0 0 0]\\n [0 ...              576   \n",
       "2  [[0 0 0 0 0]\\n [3 0 0 0 0]\\n [0 0 0 4 0]\\n [0 ...              576   \n",
       "3  [[0 0 0 0 0]\\n [8 0 0 0 0]\\n [0 0 0 0 2]\\n [0 ...              841   \n",
       "4  [[0 0 0 0 0]\\n [8 0 0 0 0]\\n [0 0 0 7 0]\\n [0 ...              961   \n",
       "\n",
       "   Heaviest Queen^2  Lightest Queens^2  Attacks By Heaviest Queen^2  \\\n",
       "0                81                  9                            4   \n",
       "1                49                  4                            4   \n",
       "2                81                  4                            4   \n",
       "3                81                  4                            9   \n",
       "4                81                  9                            4   \n",
       "\n",
       "   Heaviest Queens Attacks Ratio^2  Total Weights_log  Heaviest Queen_log  \\\n",
       "0                         0.160000           3.401197            2.197225   \n",
       "1                         0.111111           3.178054            1.945910   \n",
       "2                         0.081633           3.178054            2.197225   \n",
       "3                         0.360000           3.367296            2.197225   \n",
       "4                         0.049383           3.433987            2.197225   \n",
       "\n",
       "   Lightest Queens_log  Final Costs  \n",
       "0             1.098612           79  \n",
       "1             0.693147           68  \n",
       "2             0.693147           61  \n",
       "3             0.693147          172  \n",
       "4             1.098612          107  "
      ]
     },
     "execution_count": 7,
     "metadata": {},
     "output_type": "execute_result"
    }
   ],
   "source": [
    "data.head()"
   ]
  },
  {
   "cell_type": "code",
   "execution_count": 8,
   "id": "e47249f1",
   "metadata": {},
   "outputs": [
    {
     "data": {
      "text/html": [
       "<div>\n",
       "<style scoped>\n",
       "    .dataframe tbody tr th:only-of-type {\n",
       "        vertical-align: middle;\n",
       "    }\n",
       "\n",
       "    .dataframe tbody tr th {\n",
       "        vertical-align: top;\n",
       "    }\n",
       "\n",
       "    .dataframe thead th {\n",
       "        text-align: right;\n",
       "    }\n",
       "</style>\n",
       "<table border=\"1\" class=\"dataframe\">\n",
       "  <thead>\n",
       "    <tr style=\"text-align: right;\">\n",
       "      <th></th>\n",
       "      <th>Total Weights^2</th>\n",
       "      <th>Heaviest Queen^2</th>\n",
       "      <th>Lightest Queens^2</th>\n",
       "      <th>Attacks By Heaviest Queen^2</th>\n",
       "      <th>Heaviest Queens Attacks Ratio^2</th>\n",
       "      <th>Total Weights_log</th>\n",
       "      <th>Heaviest Queen_log</th>\n",
       "      <th>Lightest Queens_log</th>\n",
       "      <th>Final Costs</th>\n",
       "    </tr>\n",
       "  </thead>\n",
       "  <tbody>\n",
       "    <tr>\n",
       "      <th>Total Weights^2</th>\n",
       "      <td>1.000000</td>\n",
       "      <td>0.638114</td>\n",
       "      <td>0.668027</td>\n",
       "      <td>-0.009025</td>\n",
       "      <td>-0.004473</td>\n",
       "      <td>0.988693</td>\n",
       "      <td>0.634502</td>\n",
       "      <td>0.661127</td>\n",
       "      <td>0.559820</td>\n",
       "    </tr>\n",
       "    <tr>\n",
       "      <th>Heaviest Queen^2</th>\n",
       "      <td>0.638114</td>\n",
       "      <td>1.000000</td>\n",
       "      <td>0.200124</td>\n",
       "      <td>0.004772</td>\n",
       "      <td>0.007672</td>\n",
       "      <td>0.683983</td>\n",
       "      <td>0.993998</td>\n",
       "      <td>0.200054</td>\n",
       "      <td>0.324422</td>\n",
       "    </tr>\n",
       "    <tr>\n",
       "      <th>Lightest Queens^2</th>\n",
       "      <td>0.668027</td>\n",
       "      <td>0.200124</td>\n",
       "      <td>1.000000</td>\n",
       "      <td>-0.007885</td>\n",
       "      <td>-0.001192</td>\n",
       "      <td>0.613801</td>\n",
       "      <td>0.198931</td>\n",
       "      <td>0.965654</td>\n",
       "      <td>0.374913</td>\n",
       "    </tr>\n",
       "    <tr>\n",
       "      <th>Attacks By Heaviest Queen^2</th>\n",
       "      <td>-0.009025</td>\n",
       "      <td>0.004772</td>\n",
       "      <td>-0.007885</td>\n",
       "      <td>1.000000</td>\n",
       "      <td>0.755656</td>\n",
       "      <td>-0.007488</td>\n",
       "      <td>0.005635</td>\n",
       "      <td>-0.006697</td>\n",
       "      <td>0.311686</td>\n",
       "    </tr>\n",
       "    <tr>\n",
       "      <th>Heaviest Queens Attacks Ratio^2</th>\n",
       "      <td>-0.004473</td>\n",
       "      <td>0.007672</td>\n",
       "      <td>-0.001192</td>\n",
       "      <td>0.755656</td>\n",
       "      <td>1.000000</td>\n",
       "      <td>-0.002871</td>\n",
       "      <td>0.007451</td>\n",
       "      <td>0.000134</td>\n",
       "      <td>0.297629</td>\n",
       "    </tr>\n",
       "    <tr>\n",
       "      <th>Total Weights_log</th>\n",
       "      <td>0.988693</td>\n",
       "      <td>0.683983</td>\n",
       "      <td>0.613801</td>\n",
       "      <td>-0.007488</td>\n",
       "      <td>-0.002871</td>\n",
       "      <td>1.000000</td>\n",
       "      <td>0.687718</td>\n",
       "      <td>0.622388</td>\n",
       "      <td>0.553458</td>\n",
       "    </tr>\n",
       "    <tr>\n",
       "      <th>Heaviest Queen_log</th>\n",
       "      <td>0.634502</td>\n",
       "      <td>0.993998</td>\n",
       "      <td>0.198931</td>\n",
       "      <td>0.005635</td>\n",
       "      <td>0.007451</td>\n",
       "      <td>0.687718</td>\n",
       "      <td>1.000000</td>\n",
       "      <td>0.200696</td>\n",
       "      <td>0.323478</td>\n",
       "    </tr>\n",
       "    <tr>\n",
       "      <th>Lightest Queens_log</th>\n",
       "      <td>0.661127</td>\n",
       "      <td>0.200054</td>\n",
       "      <td>0.965654</td>\n",
       "      <td>-0.006697</td>\n",
       "      <td>0.000134</td>\n",
       "      <td>0.622388</td>\n",
       "      <td>0.200696</td>\n",
       "      <td>1.000000</td>\n",
       "      <td>0.369665</td>\n",
       "    </tr>\n",
       "    <tr>\n",
       "      <th>Final Costs</th>\n",
       "      <td>0.559820</td>\n",
       "      <td>0.324422</td>\n",
       "      <td>0.374913</td>\n",
       "      <td>0.311686</td>\n",
       "      <td>0.297629</td>\n",
       "      <td>0.553458</td>\n",
       "      <td>0.323478</td>\n",
       "      <td>0.369665</td>\n",
       "      <td>1.000000</td>\n",
       "    </tr>\n",
       "  </tbody>\n",
       "</table>\n",
       "</div>"
      ],
      "text/plain": [
       "                                 Total Weights^2  Heaviest Queen^2  \\\n",
       "Total Weights^2                         1.000000          0.638114   \n",
       "Heaviest Queen^2                        0.638114          1.000000   \n",
       "Lightest Queens^2                       0.668027          0.200124   \n",
       "Attacks By Heaviest Queen^2            -0.009025          0.004772   \n",
       "Heaviest Queens Attacks Ratio^2        -0.004473          0.007672   \n",
       "Total Weights_log                       0.988693          0.683983   \n",
       "Heaviest Queen_log                      0.634502          0.993998   \n",
       "Lightest Queens_log                     0.661127          0.200054   \n",
       "Final Costs                             0.559820          0.324422   \n",
       "\n",
       "                                 Lightest Queens^2  \\\n",
       "Total Weights^2                           0.668027   \n",
       "Heaviest Queen^2                          0.200124   \n",
       "Lightest Queens^2                         1.000000   \n",
       "Attacks By Heaviest Queen^2              -0.007885   \n",
       "Heaviest Queens Attacks Ratio^2          -0.001192   \n",
       "Total Weights_log                         0.613801   \n",
       "Heaviest Queen_log                        0.198931   \n",
       "Lightest Queens_log                       0.965654   \n",
       "Final Costs                               0.374913   \n",
       "\n",
       "                                 Attacks By Heaviest Queen^2  \\\n",
       "Total Weights^2                                    -0.009025   \n",
       "Heaviest Queen^2                                    0.004772   \n",
       "Lightest Queens^2                                  -0.007885   \n",
       "Attacks By Heaviest Queen^2                         1.000000   \n",
       "Heaviest Queens Attacks Ratio^2                     0.755656   \n",
       "Total Weights_log                                  -0.007488   \n",
       "Heaviest Queen_log                                  0.005635   \n",
       "Lightest Queens_log                                -0.006697   \n",
       "Final Costs                                         0.311686   \n",
       "\n",
       "                                 Heaviest Queens Attacks Ratio^2  \\\n",
       "Total Weights^2                                        -0.004473   \n",
       "Heaviest Queen^2                                        0.007672   \n",
       "Lightest Queens^2                                      -0.001192   \n",
       "Attacks By Heaviest Queen^2                             0.755656   \n",
       "Heaviest Queens Attacks Ratio^2                         1.000000   \n",
       "Total Weights_log                                      -0.002871   \n",
       "Heaviest Queen_log                                      0.007451   \n",
       "Lightest Queens_log                                     0.000134   \n",
       "Final Costs                                             0.297629   \n",
       "\n",
       "                                 Total Weights_log  Heaviest Queen_log  \\\n",
       "Total Weights^2                           0.988693            0.634502   \n",
       "Heaviest Queen^2                          0.683983            0.993998   \n",
       "Lightest Queens^2                         0.613801            0.198931   \n",
       "Attacks By Heaviest Queen^2              -0.007488            0.005635   \n",
       "Heaviest Queens Attacks Ratio^2          -0.002871            0.007451   \n",
       "Total Weights_log                         1.000000            0.687718   \n",
       "Heaviest Queen_log                        0.687718            1.000000   \n",
       "Lightest Queens_log                       0.622388            0.200696   \n",
       "Final Costs                               0.553458            0.323478   \n",
       "\n",
       "                                 Lightest Queens_log  Final Costs  \n",
       "Total Weights^2                             0.661127     0.559820  \n",
       "Heaviest Queen^2                            0.200054     0.324422  \n",
       "Lightest Queens^2                           0.965654     0.374913  \n",
       "Attacks By Heaviest Queen^2                -0.006697     0.311686  \n",
       "Heaviest Queens Attacks Ratio^2             0.000134     0.297629  \n",
       "Total Weights_log                           0.622388     0.553458  \n",
       "Heaviest Queen_log                          0.200696     0.323478  \n",
       "Lightest Queens_log                         1.000000     0.369665  \n",
       "Final Costs                                 0.369665     1.000000  "
      ]
     },
     "execution_count": 8,
     "metadata": {},
     "output_type": "execute_result"
    }
   ],
   "source": [
    "data.corr()"
   ]
  },
  {
   "cell_type": "code",
   "execution_count": 9,
   "id": "e3919b23",
   "metadata": {},
   "outputs": [],
   "source": [
    "X = data.iloc[:, 1:9]\n",
    "y = data.iloc[:,-1]"
   ]
  },
  {
   "cell_type": "code",
   "execution_count": 10,
   "id": "ad797b75",
   "metadata": {},
   "outputs": [
    {
     "data": {
      "text/plain": [
       "(15210, 8)"
      ]
     },
     "execution_count": 10,
     "metadata": {},
     "output_type": "execute_result"
    }
   ],
   "source": [
    "X.shape"
   ]
  },
  {
   "cell_type": "code",
   "execution_count": 11,
   "id": "34b58e5b",
   "metadata": {},
   "outputs": [
    {
     "data": {
      "text/plain": [
       "(15210,)"
      ]
     },
     "execution_count": 11,
     "metadata": {},
     "output_type": "execute_result"
    }
   ],
   "source": [
    "y.shape"
   ]
  },
  {
   "cell_type": "code",
   "execution_count": 12,
   "id": "8debec71",
   "metadata": {},
   "outputs": [
    {
     "data": {
      "text/html": [
       "<div>\n",
       "<style scoped>\n",
       "    .dataframe tbody tr th:only-of-type {\n",
       "        vertical-align: middle;\n",
       "    }\n",
       "\n",
       "    .dataframe tbody tr th {\n",
       "        vertical-align: top;\n",
       "    }\n",
       "\n",
       "    .dataframe thead th {\n",
       "        text-align: right;\n",
       "    }\n",
       "</style>\n",
       "<table border=\"1\" class=\"dataframe\">\n",
       "  <thead>\n",
       "    <tr style=\"text-align: right;\">\n",
       "      <th></th>\n",
       "      <th>Total Weights^2</th>\n",
       "      <th>Heaviest Queen^2</th>\n",
       "      <th>Lightest Queens^2</th>\n",
       "      <th>Attacks By Heaviest Queen^2</th>\n",
       "      <th>Heaviest Queens Attacks Ratio^2</th>\n",
       "      <th>Total Weights_log</th>\n",
       "      <th>Heaviest Queen_log</th>\n",
       "      <th>Lightest Queens_log</th>\n",
       "    </tr>\n",
       "  </thead>\n",
       "  <tbody>\n",
       "    <tr>\n",
       "      <th>0</th>\n",
       "      <td>900</td>\n",
       "      <td>81</td>\n",
       "      <td>9</td>\n",
       "      <td>4</td>\n",
       "      <td>0.160000</td>\n",
       "      <td>3.401197</td>\n",
       "      <td>2.197225</td>\n",
       "      <td>1.098612</td>\n",
       "    </tr>\n",
       "    <tr>\n",
       "      <th>1</th>\n",
       "      <td>576</td>\n",
       "      <td>49</td>\n",
       "      <td>4</td>\n",
       "      <td>4</td>\n",
       "      <td>0.111111</td>\n",
       "      <td>3.178054</td>\n",
       "      <td>1.945910</td>\n",
       "      <td>0.693147</td>\n",
       "    </tr>\n",
       "    <tr>\n",
       "      <th>2</th>\n",
       "      <td>576</td>\n",
       "      <td>81</td>\n",
       "      <td>4</td>\n",
       "      <td>4</td>\n",
       "      <td>0.081633</td>\n",
       "      <td>3.178054</td>\n",
       "      <td>2.197225</td>\n",
       "      <td>0.693147</td>\n",
       "    </tr>\n",
       "    <tr>\n",
       "      <th>3</th>\n",
       "      <td>841</td>\n",
       "      <td>81</td>\n",
       "      <td>4</td>\n",
       "      <td>9</td>\n",
       "      <td>0.360000</td>\n",
       "      <td>3.367296</td>\n",
       "      <td>2.197225</td>\n",
       "      <td>0.693147</td>\n",
       "    </tr>\n",
       "    <tr>\n",
       "      <th>4</th>\n",
       "      <td>961</td>\n",
       "      <td>81</td>\n",
       "      <td>9</td>\n",
       "      <td>4</td>\n",
       "      <td>0.049383</td>\n",
       "      <td>3.433987</td>\n",
       "      <td>2.197225</td>\n",
       "      <td>1.098612</td>\n",
       "    </tr>\n",
       "  </tbody>\n",
       "</table>\n",
       "</div>"
      ],
      "text/plain": [
       "   Total Weights^2  Heaviest Queen^2  Lightest Queens^2  \\\n",
       "0              900                81                  9   \n",
       "1              576                49                  4   \n",
       "2              576                81                  4   \n",
       "3              841                81                  4   \n",
       "4              961                81                  9   \n",
       "\n",
       "   Attacks By Heaviest Queen^2  Heaviest Queens Attacks Ratio^2  \\\n",
       "0                            4                         0.160000   \n",
       "1                            4                         0.111111   \n",
       "2                            4                         0.081633   \n",
       "3                            9                         0.360000   \n",
       "4                            4                         0.049383   \n",
       "\n",
       "   Total Weights_log  Heaviest Queen_log  Lightest Queens_log  \n",
       "0           3.401197            2.197225             1.098612  \n",
       "1           3.178054            1.945910             0.693147  \n",
       "2           3.178054            2.197225             0.693147  \n",
       "3           3.367296            2.197225             0.693147  \n",
       "4           3.433987            2.197225             1.098612  "
      ]
     },
     "execution_count": 12,
     "metadata": {},
     "output_type": "execute_result"
    }
   ],
   "source": [
    "X.head()"
   ]
  },
  {
   "cell_type": "code",
   "execution_count": 13,
   "id": "8cdda519",
   "metadata": {},
   "outputs": [
    {
     "data": {
      "text/plain": [
       "0     79\n",
       "1     68\n",
       "2     61\n",
       "3    172\n",
       "4    107\n",
       "Name: Final Costs, dtype: int64"
      ]
     },
     "execution_count": 13,
     "metadata": {},
     "output_type": "execute_result"
    }
   ],
   "source": [
    "y.head()"
   ]
  },
  {
   "cell_type": "code",
   "execution_count": 14,
   "id": "12b7da74",
   "metadata": {},
   "outputs": [],
   "source": [
    "X_train, X_test, y_train, y_test = train_test_split(X, y, test_size=0.2, random_state=20)"
   ]
  },
  {
   "cell_type": "code",
   "execution_count": 15,
   "id": "aa0325d5",
   "metadata": {},
   "outputs": [
    {
     "name": "stdout",
     "output_type": "stream",
     "text": [
      "(12168, 8)\n",
      "(3042, 8)\n",
      "(12168,)\n",
      "(3042,)\n"
     ]
    }
   ],
   "source": [
    "print(X_train.shape)\n",
    "print(X_test.shape)\n",
    "print(y_train.shape)\n",
    "print(y_test.shape)"
   ]
  },
  {
   "cell_type": "code",
   "execution_count": 16,
   "id": "34c051e5",
   "metadata": {},
   "outputs": [
    {
     "data": {
      "text/plain": [
       "StandardScaler()"
      ]
     },
     "execution_count": 16,
     "metadata": {},
     "output_type": "execute_result"
    }
   ],
   "source": [
    "from sklearn.preprocessing import StandardScaler\n",
    "scaler = StandardScaler()\n",
    "scaler.fit(X_train)"
   ]
  },
  {
   "cell_type": "code",
   "execution_count": 17,
   "id": "ea093793",
   "metadata": {},
   "outputs": [],
   "source": [
    "X_train_scaled = scaler.transform(X_train)\n",
    "X_test_scaled = scaler.transform(X_test)"
   ]
  },
  {
   "cell_type": "code",
   "execution_count": 18,
   "id": "5e793f46",
   "metadata": {},
   "outputs": [],
   "source": [
    "model = Sequential()"
   ]
  },
  {
   "cell_type": "code",
   "execution_count": 19,
   "id": "b1b6c85e",
   "metadata": {},
   "outputs": [],
   "source": [
    "model.add(Dense(128, input_dim = 8, activation = 'relu'))\n",
    "model.add(Dense(128, activation='relu'))\n",
    "# model.add(Dense(32, activation='relu'))"
   ]
  },
  {
   "cell_type": "code",
   "execution_count": 20,
   "id": "be644ef3",
   "metadata": {},
   "outputs": [],
   "source": [
    "model.add(Dense(1,activation = 'linear'))"
   ]
  },
  {
   "cell_type": "code",
   "execution_count": 21,
   "id": "94104c39",
   "metadata": {},
   "outputs": [],
   "source": [
    "model.compile(loss = tf.keras.losses.MeanSquaredError(), optimizer = 'adam', metrics = [tf.keras.metrics.RootMeanSquaredError(), tf.keras.metrics.MeanSquaredError(), tf.keras.metrics.MeanAbsoluteError()])"
   ]
  },
  {
   "cell_type": "code",
   "execution_count": 22,
   "id": "38b05b06",
   "metadata": {},
   "outputs": [
    {
     "name": "stdout",
     "output_type": "stream",
     "text": [
      "Model: \"sequential\"\n",
      "_________________________________________________________________\n",
      " Layer (type)                Output Shape              Param #   \n",
      "=================================================================\n",
      " dense (Dense)               (None, 128)               1152      \n",
      "                                                                 \n",
      " dense_1 (Dense)             (None, 128)               16512     \n",
      "                                                                 \n",
      " dense_2 (Dense)             (None, 1)                 129       \n",
      "                                                                 \n",
      "=================================================================\n",
      "Total params: 17,793\n",
      "Trainable params: 17,793\n",
      "Non-trainable params: 0\n",
      "_________________________________________________________________\n"
     ]
    }
   ],
   "source": [
    "model.summary()"
   ]
  },
  {
   "cell_type": "code",
   "execution_count": 23,
   "id": "ef2ff9a9",
   "metadata": {},
   "outputs": [
    {
     "name": "stdout",
     "output_type": "stream",
     "text": [
      "Epoch 1/100\n",
      "305/305 [==============================] - 2s 3ms/step - loss: 5844.4009 - root_mean_squared_error: 76.4487 - mean_squared_error: 5844.4009 - mean_absolute_error: 59.4190 - val_loss: 2272.1042 - val_root_mean_squared_error: 47.6666 - val_mean_squared_error: 2272.1042 - val_mean_absolute_error: 37.8375\n",
      "Epoch 2/100\n",
      "305/305 [==============================] - 1s 2ms/step - loss: 1990.4288 - root_mean_squared_error: 44.6142 - mean_squared_error: 1990.4288 - mean_absolute_error: 35.4371 - val_loss: 1831.6649 - val_root_mean_squared_error: 42.7980 - val_mean_squared_error: 1831.6649 - val_mean_absolute_error: 33.9048\n",
      "Epoch 3/100\n",
      "305/305 [==============================] - 1s 2ms/step - loss: 1761.8652 - root_mean_squared_error: 41.9746 - mean_squared_error: 1761.8652 - mean_absolute_error: 33.2647 - val_loss: 1722.5051 - val_root_mean_squared_error: 41.5031 - val_mean_squared_error: 1722.5051 - val_mean_absolute_error: 32.8990\n",
      "Epoch 4/100\n",
      "305/305 [==============================] - 1s 2ms/step - loss: 1703.0050 - root_mean_squared_error: 41.2675 - mean_squared_error: 1703.0050 - mean_absolute_error: 32.7456 - val_loss: 1707.1843 - val_root_mean_squared_error: 41.3181 - val_mean_squared_error: 1707.1843 - val_mean_absolute_error: 32.7460\n",
      "Epoch 5/100\n",
      "305/305 [==============================] - 1s 3ms/step - loss: 1671.3220 - root_mean_squared_error: 40.8818 - mean_squared_error: 1671.3220 - mean_absolute_error: 32.4354 - val_loss: 1676.1564 - val_root_mean_squared_error: 40.9409 - val_mean_squared_error: 1676.1564 - val_mean_absolute_error: 32.5174\n",
      "Epoch 6/100\n",
      "305/305 [==============================] - 1s 3ms/step - loss: 1653.4175 - root_mean_squared_error: 40.6622 - mean_squared_error: 1653.4175 - mean_absolute_error: 32.2491 - val_loss: 1655.4875 - val_root_mean_squared_error: 40.6877 - val_mean_squared_error: 1655.4875 - val_mean_absolute_error: 32.3349\n",
      "Epoch 7/100\n",
      "305/305 [==============================] - 1s 3ms/step - loss: 1629.6010 - root_mean_squared_error: 40.3683 - mean_squared_error: 1629.6010 - mean_absolute_error: 32.0546 - val_loss: 1660.3617 - val_root_mean_squared_error: 40.7475 - val_mean_squared_error: 1660.3617 - val_mean_absolute_error: 32.4164\n",
      "Epoch 8/100\n",
      "305/305 [==============================] - 1s 3ms/step - loss: 1621.1143 - root_mean_squared_error: 40.2631 - mean_squared_error: 1621.1143 - mean_absolute_error: 31.9244 - val_loss: 1652.1604 - val_root_mean_squared_error: 40.6468 - val_mean_squared_error: 1652.1604 - val_mean_absolute_error: 32.2135\n",
      "Epoch 9/100\n",
      "305/305 [==============================] - 1s 3ms/step - loss: 1613.8295 - root_mean_squared_error: 40.1725 - mean_squared_error: 1613.8295 - mean_absolute_error: 31.9410 - val_loss: 1626.8358 - val_root_mean_squared_error: 40.3341 - val_mean_squared_error: 1626.8358 - val_mean_absolute_error: 32.1200\n",
      "Epoch 10/100\n",
      "305/305 [==============================] - 1s 2ms/step - loss: 1616.1804 - root_mean_squared_error: 40.2017 - mean_squared_error: 1616.1804 - mean_absolute_error: 31.8918 - val_loss: 1635.2134 - val_root_mean_squared_error: 40.4378 - val_mean_squared_error: 1635.2134 - val_mean_absolute_error: 32.2458\n",
      "Epoch 11/100\n",
      "305/305 [==============================] - 1s 2ms/step - loss: 1614.8828 - root_mean_squared_error: 40.1856 - mean_squared_error: 1614.8828 - mean_absolute_error: 31.9383 - val_loss: 1641.8997 - val_root_mean_squared_error: 40.5204 - val_mean_squared_error: 1641.8997 - val_mean_absolute_error: 32.2331\n",
      "Epoch 12/100\n",
      "305/305 [==============================] - 1s 2ms/step - loss: 1612.8123 - root_mean_squared_error: 40.1598 - mean_squared_error: 1612.8123 - mean_absolute_error: 31.9071 - val_loss: 1670.7003 - val_root_mean_squared_error: 40.8742 - val_mean_squared_error: 1670.7003 - val_mean_absolute_error: 32.3837\n",
      "Epoch 13/100\n",
      "305/305 [==============================] - 1s 2ms/step - loss: 1613.6091 - root_mean_squared_error: 40.1698 - mean_squared_error: 1613.6091 - mean_absolute_error: 31.8732 - val_loss: 1622.1747 - val_root_mean_squared_error: 40.2762 - val_mean_squared_error: 1622.1747 - val_mean_absolute_error: 32.0554\n",
      "Epoch 14/100\n",
      "305/305 [==============================] - 1s 2ms/step - loss: 1608.3033 - root_mean_squared_error: 40.1037 - mean_squared_error: 1608.3033 - mean_absolute_error: 31.8654 - val_loss: 1649.6058 - val_root_mean_squared_error: 40.6153 - val_mean_squared_error: 1649.6058 - val_mean_absolute_error: 32.2419\n",
      "Epoch 15/100\n",
      "305/305 [==============================] - 1s 2ms/step - loss: 1613.6738 - root_mean_squared_error: 40.1706 - mean_squared_error: 1613.6738 - mean_absolute_error: 31.9123 - val_loss: 1639.3750 - val_root_mean_squared_error: 40.4892 - val_mean_squared_error: 1639.3750 - val_mean_absolute_error: 32.3405\n",
      "Epoch 16/100\n",
      "305/305 [==============================] - 1s 2ms/step - loss: 1611.7214 - root_mean_squared_error: 40.1463 - mean_squared_error: 1611.7214 - mean_absolute_error: 31.8862 - val_loss: 1628.9414 - val_root_mean_squared_error: 40.3601 - val_mean_squared_error: 1628.9414 - val_mean_absolute_error: 32.0690\n",
      "Epoch 17/100\n",
      "305/305 [==============================] - 1s 3ms/step - loss: 1612.6599 - root_mean_squared_error: 40.1579 - mean_squared_error: 1612.6599 - mean_absolute_error: 31.8866 - val_loss: 1634.7501 - val_root_mean_squared_error: 40.4320 - val_mean_squared_error: 1634.7501 - val_mean_absolute_error: 32.1975\n",
      "Epoch 18/100\n",
      "305/305 [==============================] - 1s 2ms/step - loss: 1609.3755 - root_mean_squared_error: 40.1170 - mean_squared_error: 1609.3755 - mean_absolute_error: 31.8313 - val_loss: 1631.5107 - val_root_mean_squared_error: 40.3920 - val_mean_squared_error: 1631.5107 - val_mean_absolute_error: 32.0399\n",
      "Epoch 19/100\n",
      "305/305 [==============================] - 1s 3ms/step - loss: 1610.1416 - root_mean_squared_error: 40.1266 - mean_squared_error: 1610.1416 - mean_absolute_error: 31.9023 - val_loss: 1619.9430 - val_root_mean_squared_error: 40.2485 - val_mean_squared_error: 1619.9430 - val_mean_absolute_error: 32.0367\n",
      "Epoch 20/100\n",
      "305/305 [==============================] - 1s 3ms/step - loss: 1610.1956 - root_mean_squared_error: 40.1272 - mean_squared_error: 1610.1956 - mean_absolute_error: 31.8881 - val_loss: 1622.4121 - val_root_mean_squared_error: 40.2792 - val_mean_squared_error: 1622.4121 - val_mean_absolute_error: 32.1219\n",
      "Epoch 21/100\n",
      "305/305 [==============================] - 1s 3ms/step - loss: 1609.1538 - root_mean_squared_error: 40.1143 - mean_squared_error: 1609.1538 - mean_absolute_error: 31.8620 - val_loss: 1625.7936 - val_root_mean_squared_error: 40.3211 - val_mean_squared_error: 1625.7936 - val_mean_absolute_error: 32.0690\n",
      "Epoch 22/100\n",
      "305/305 [==============================] - 1s 3ms/step - loss: 1609.0231 - root_mean_squared_error: 40.1126 - mean_squared_error: 1609.0231 - mean_absolute_error: 31.8477 - val_loss: 1625.7042 - val_root_mean_squared_error: 40.3200 - val_mean_squared_error: 1625.7042 - val_mean_absolute_error: 32.1252\n",
      "Epoch 23/100\n",
      "305/305 [==============================] - 1s 2ms/step - loss: 1608.9023 - root_mean_squared_error: 40.1111 - mean_squared_error: 1608.9023 - mean_absolute_error: 31.8457 - val_loss: 1644.9620 - val_root_mean_squared_error: 40.5581 - val_mean_squared_error: 1644.9620 - val_mean_absolute_error: 32.2466\n",
      "Epoch 24/100\n",
      "305/305 [==============================] - 1s 3ms/step - loss: 1610.2500 - root_mean_squared_error: 40.1279 - mean_squared_error: 1610.2500 - mean_absolute_error: 31.8858 - val_loss: 1620.6234 - val_root_mean_squared_error: 40.2570 - val_mean_squared_error: 1620.6234 - val_mean_absolute_error: 31.9881\n",
      "Epoch 25/100\n",
      "305/305 [==============================] - 1s 2ms/step - loss: 1603.7661 - root_mean_squared_error: 40.0470 - mean_squared_error: 1603.7661 - mean_absolute_error: 31.8025 - val_loss: 1631.5029 - val_root_mean_squared_error: 40.3919 - val_mean_squared_error: 1631.5029 - val_mean_absolute_error: 32.2335\n",
      "Epoch 26/100\n",
      "305/305 [==============================] - 1s 2ms/step - loss: 1610.2753 - root_mean_squared_error: 40.1282 - mean_squared_error: 1610.2753 - mean_absolute_error: 31.8586 - val_loss: 1642.7980 - val_root_mean_squared_error: 40.5314 - val_mean_squared_error: 1642.7980 - val_mean_absolute_error: 32.1565\n"
     ]
    },
    {
     "name": "stdout",
     "output_type": "stream",
     "text": [
      "Epoch 27/100\n",
      "305/305 [==============================] - 1s 2ms/step - loss: 1605.2714 - root_mean_squared_error: 40.0658 - mean_squared_error: 1605.2714 - mean_absolute_error: 31.8452 - val_loss: 1626.3047 - val_root_mean_squared_error: 40.3275 - val_mean_squared_error: 1626.3047 - val_mean_absolute_error: 32.0215\n",
      "Epoch 28/100\n",
      "305/305 [==============================] - 1s 2ms/step - loss: 1608.6469 - root_mean_squared_error: 40.1079 - mean_squared_error: 1608.6469 - mean_absolute_error: 31.8502 - val_loss: 1631.0708 - val_root_mean_squared_error: 40.3865 - val_mean_squared_error: 1631.0708 - val_mean_absolute_error: 32.2018\n",
      "Epoch 29/100\n",
      "305/305 [==============================] - 1s 2ms/step - loss: 1608.6729 - root_mean_squared_error: 40.1083 - mean_squared_error: 1608.6729 - mean_absolute_error: 31.8633 - val_loss: 1639.6007 - val_root_mean_squared_error: 40.4920 - val_mean_squared_error: 1639.6007 - val_mean_absolute_error: 32.1734\n",
      "Epoch 30/100\n",
      "305/305 [==============================] - 1s 2ms/step - loss: 1608.9606 - root_mean_squared_error: 40.1119 - mean_squared_error: 1608.9606 - mean_absolute_error: 31.8481 - val_loss: 1619.6344 - val_root_mean_squared_error: 40.2447 - val_mean_squared_error: 1619.6344 - val_mean_absolute_error: 31.9574\n",
      "Epoch 31/100\n",
      "305/305 [==============================] - 1s 2ms/step - loss: 1605.7958 - root_mean_squared_error: 40.0724 - mean_squared_error: 1605.7958 - mean_absolute_error: 31.8095 - val_loss: 1616.6609 - val_root_mean_squared_error: 40.2077 - val_mean_squared_error: 1616.6609 - val_mean_absolute_error: 31.9537\n",
      "Epoch 32/100\n",
      "305/305 [==============================] - 1s 2ms/step - loss: 1605.5243 - root_mean_squared_error: 40.0690 - mean_squared_error: 1605.5243 - mean_absolute_error: 31.8468 - val_loss: 1635.5829 - val_root_mean_squared_error: 40.4423 - val_mean_squared_error: 1635.5829 - val_mean_absolute_error: 32.0816\n",
      "Epoch 33/100\n",
      "305/305 [==============================] - 1s 2ms/step - loss: 1605.3385 - root_mean_squared_error: 40.0667 - mean_squared_error: 1605.3385 - mean_absolute_error: 31.7976 - val_loss: 1628.6495 - val_root_mean_squared_error: 40.3565 - val_mean_squared_error: 1628.6495 - val_mean_absolute_error: 32.1465\n",
      "Epoch 34/100\n",
      "305/305 [==============================] - 1s 2ms/step - loss: 1605.4802 - root_mean_squared_error: 40.0684 - mean_squared_error: 1605.4802 - mean_absolute_error: 31.8322 - val_loss: 1624.8453 - val_root_mean_squared_error: 40.3094 - val_mean_squared_error: 1624.8453 - val_mean_absolute_error: 32.0160\n",
      "Epoch 35/100\n",
      "305/305 [==============================] - 1s 2ms/step - loss: 1606.2240 - root_mean_squared_error: 40.0777 - mean_squared_error: 1606.2240 - mean_absolute_error: 31.8049 - val_loss: 1631.2303 - val_root_mean_squared_error: 40.3885 - val_mean_squared_error: 1631.2303 - val_mean_absolute_error: 32.1054\n",
      "Epoch 36/100\n",
      "305/305 [==============================] - 1s 2ms/step - loss: 1602.9761 - root_mean_squared_error: 40.0372 - mean_squared_error: 1602.9761 - mean_absolute_error: 31.7918 - val_loss: 1623.2101 - val_root_mean_squared_error: 40.2891 - val_mean_squared_error: 1623.2101 - val_mean_absolute_error: 32.1045\n",
      "Epoch 37/100\n",
      "305/305 [==============================] - 1s 2ms/step - loss: 1607.6351 - root_mean_squared_error: 40.0953 - mean_squared_error: 1607.6351 - mean_absolute_error: 31.8324 - val_loss: 1620.3662 - val_root_mean_squared_error: 40.2538 - val_mean_squared_error: 1620.3662 - val_mean_absolute_error: 32.0980\n",
      "Epoch 38/100\n",
      "305/305 [==============================] - 1s 2ms/step - loss: 1602.5854 - root_mean_squared_error: 40.0323 - mean_squared_error: 1602.5854 - mean_absolute_error: 31.7848 - val_loss: 1625.3777 - val_root_mean_squared_error: 40.3160 - val_mean_squared_error: 1625.3777 - val_mean_absolute_error: 32.0848\n",
      "Epoch 39/100\n",
      "305/305 [==============================] - 1s 2ms/step - loss: 1598.3123 - root_mean_squared_error: 39.9789 - mean_squared_error: 1598.3123 - mean_absolute_error: 31.7660 - val_loss: 1620.5121 - val_root_mean_squared_error: 40.2556 - val_mean_squared_error: 1620.5121 - val_mean_absolute_error: 31.9723\n",
      "Epoch 40/100\n",
      "305/305 [==============================] - 1s 2ms/step - loss: 1604.8998 - root_mean_squared_error: 40.0612 - mean_squared_error: 1604.8998 - mean_absolute_error: 31.8582 - val_loss: 1623.0066 - val_root_mean_squared_error: 40.2866 - val_mean_squared_error: 1623.0066 - val_mean_absolute_error: 31.9943\n",
      "Epoch 41/100\n",
      "305/305 [==============================] - 1s 2ms/step - loss: 1604.7202 - root_mean_squared_error: 40.0590 - mean_squared_error: 1604.7202 - mean_absolute_error: 31.8064 - val_loss: 1621.1238 - val_root_mean_squared_error: 40.2632 - val_mean_squared_error: 1621.1238 - val_mean_absolute_error: 32.0398\n",
      "Epoch 42/100\n",
      "305/305 [==============================] - 1s 2ms/step - loss: 1606.9460 - root_mean_squared_error: 40.0867 - mean_squared_error: 1606.9460 - mean_absolute_error: 31.8379 - val_loss: 1614.1785 - val_root_mean_squared_error: 40.1768 - val_mean_squared_error: 1614.1785 - val_mean_absolute_error: 31.9690\n",
      "Epoch 43/100\n",
      "305/305 [==============================] - 1s 2ms/step - loss: 1602.3235 - root_mean_squared_error: 40.0290 - mean_squared_error: 1602.3235 - mean_absolute_error: 31.8289 - val_loss: 1628.7576 - val_root_mean_squared_error: 40.3579 - val_mean_squared_error: 1628.7576 - val_mean_absolute_error: 32.0146\n",
      "Epoch 44/100\n",
      "305/305 [==============================] - 1s 2ms/step - loss: 1602.1549 - root_mean_squared_error: 40.0269 - mean_squared_error: 1602.1549 - mean_absolute_error: 31.8050 - val_loss: 1614.5178 - val_root_mean_squared_error: 40.1811 - val_mean_squared_error: 1614.5178 - val_mean_absolute_error: 31.9510\n",
      "Epoch 45/100\n",
      "305/305 [==============================] - 1s 2ms/step - loss: 1603.6808 - root_mean_squared_error: 40.0460 - mean_squared_error: 1603.6808 - mean_absolute_error: 31.8277 - val_loss: 1616.1093 - val_root_mean_squared_error: 40.2009 - val_mean_squared_error: 1616.1093 - val_mean_absolute_error: 31.9920\n",
      "Epoch 46/100\n",
      "305/305 [==============================] - 1s 2ms/step - loss: 1601.5378 - root_mean_squared_error: 40.0192 - mean_squared_error: 1601.5378 - mean_absolute_error: 31.7712 - val_loss: 1631.8198 - val_root_mean_squared_error: 40.3958 - val_mean_squared_error: 1631.8198 - val_mean_absolute_error: 32.1556\n",
      "Epoch 47/100\n",
      "305/305 [==============================] - 1s 3ms/step - loss: 1604.4298 - root_mean_squared_error: 40.0553 - mean_squared_error: 1604.4298 - mean_absolute_error: 31.8379 - val_loss: 1620.6569 - val_root_mean_squared_error: 40.2574 - val_mean_squared_error: 1620.6569 - val_mean_absolute_error: 32.0541\n",
      "Epoch 48/100\n",
      "305/305 [==============================] - 1s 3ms/step - loss: 1600.3865 - root_mean_squared_error: 40.0048 - mean_squared_error: 1600.3865 - mean_absolute_error: 31.7889 - val_loss: 1637.3223 - val_root_mean_squared_error: 40.4638 - val_mean_squared_error: 1637.3223 - val_mean_absolute_error: 32.1170\n",
      "Epoch 49/100\n",
      "305/305 [==============================] - 1s 3ms/step - loss: 1599.4611 - root_mean_squared_error: 39.9933 - mean_squared_error: 1599.4611 - mean_absolute_error: 31.7459 - val_loss: 1631.1799 - val_root_mean_squared_error: 40.3879 - val_mean_squared_error: 1631.1799 - val_mean_absolute_error: 32.0167\n",
      "Epoch 50/100\n",
      "305/305 [==============================] - 1s 2ms/step - loss: 1603.3185 - root_mean_squared_error: 40.0415 - mean_squared_error: 1603.3185 - mean_absolute_error: 31.8057 - val_loss: 1618.4175 - val_root_mean_squared_error: 40.2296 - val_mean_squared_error: 1618.4175 - val_mean_absolute_error: 32.0292\n",
      "Epoch 51/100\n",
      "305/305 [==============================] - 1s 3ms/step - loss: 1599.6138 - root_mean_squared_error: 39.9952 - mean_squared_error: 1599.6138 - mean_absolute_error: 31.7817 - val_loss: 1622.2957 - val_root_mean_squared_error: 40.2777 - val_mean_squared_error: 1622.2957 - val_mean_absolute_error: 32.0014\n",
      "Epoch 52/100\n",
      "305/305 [==============================] - 1s 3ms/step - loss: 1600.2394 - root_mean_squared_error: 40.0030 - mean_squared_error: 1600.2394 - mean_absolute_error: 31.8223 - val_loss: 1617.7261 - val_root_mean_squared_error: 40.2210 - val_mean_squared_error: 1617.7261 - val_mean_absolute_error: 31.9578\n"
     ]
    },
    {
     "name": "stdout",
     "output_type": "stream",
     "text": [
      "Epoch 53/100\n",
      "305/305 [==============================] - 1s 2ms/step - loss: 1601.3237 - root_mean_squared_error: 40.0165 - mean_squared_error: 1601.3237 - mean_absolute_error: 31.7874 - val_loss: 1633.5282 - val_root_mean_squared_error: 40.4169 - val_mean_squared_error: 1633.5282 - val_mean_absolute_error: 32.2374\n",
      "Epoch 54/100\n",
      "305/305 [==============================] - 1s 2ms/step - loss: 1598.9917 - root_mean_squared_error: 39.9874 - mean_squared_error: 1598.9917 - mean_absolute_error: 31.7685 - val_loss: 1637.2117 - val_root_mean_squared_error: 40.4625 - val_mean_squared_error: 1637.2117 - val_mean_absolute_error: 32.1880\n",
      "Epoch 55/100\n",
      "305/305 [==============================] - 1s 2ms/step - loss: 1601.4449 - root_mean_squared_error: 40.0181 - mean_squared_error: 1601.4449 - mean_absolute_error: 31.7691 - val_loss: 1619.5776 - val_root_mean_squared_error: 40.2440 - val_mean_squared_error: 1619.5776 - val_mean_absolute_error: 32.0742\n",
      "Epoch 56/100\n",
      "305/305 [==============================] - 1s 3ms/step - loss: 1595.2174 - root_mean_squared_error: 39.9402 - mean_squared_error: 1595.2174 - mean_absolute_error: 31.7380 - val_loss: 1624.5781 - val_root_mean_squared_error: 40.3061 - val_mean_squared_error: 1624.5781 - val_mean_absolute_error: 32.0283\n",
      "Epoch 57/100\n",
      "305/305 [==============================] - 1s 3ms/step - loss: 1592.8661 - root_mean_squared_error: 39.9107 - mean_squared_error: 1592.8661 - mean_absolute_error: 31.7073 - val_loss: 1637.3210 - val_root_mean_squared_error: 40.4638 - val_mean_squared_error: 1637.3210 - val_mean_absolute_error: 32.3248\n",
      "Epoch 58/100\n",
      "305/305 [==============================] - 1s 2ms/step - loss: 1599.8229 - root_mean_squared_error: 39.9978 - mean_squared_error: 1599.8229 - mean_absolute_error: 31.7624 - val_loss: 1629.7917 - val_root_mean_squared_error: 40.3707 - val_mean_squared_error: 1629.7917 - val_mean_absolute_error: 32.0927\n",
      "Epoch 59/100\n",
      "305/305 [==============================] - 1s 2ms/step - loss: 1600.1615 - root_mean_squared_error: 40.0020 - mean_squared_error: 1600.1615 - mean_absolute_error: 31.7607 - val_loss: 1618.3854 - val_root_mean_squared_error: 40.2292 - val_mean_squared_error: 1618.3854 - val_mean_absolute_error: 32.0352\n",
      "Epoch 60/100\n",
      "305/305 [==============================] - 1s 2ms/step - loss: 1601.3781 - root_mean_squared_error: 40.0172 - mean_squared_error: 1601.3781 - mean_absolute_error: 31.7697 - val_loss: 1616.1136 - val_root_mean_squared_error: 40.2009 - val_mean_squared_error: 1616.1136 - val_mean_absolute_error: 31.9125\n",
      "Epoch 61/100\n",
      "305/305 [==============================] - 1s 3ms/step - loss: 1598.5908 - root_mean_squared_error: 39.9824 - mean_squared_error: 1598.5908 - mean_absolute_error: 31.7581 - val_loss: 1627.5531 - val_root_mean_squared_error: 40.3429 - val_mean_squared_error: 1627.5531 - val_mean_absolute_error: 32.0297\n",
      "Epoch 62/100\n",
      "305/305 [==============================] - 1s 3ms/step - loss: 1599.6891 - root_mean_squared_error: 39.9961 - mean_squared_error: 1599.6891 - mean_absolute_error: 31.7708 - val_loss: 1627.6210 - val_root_mean_squared_error: 40.3438 - val_mean_squared_error: 1627.6210 - val_mean_absolute_error: 32.0189\n",
      "Epoch 63/100\n",
      "305/305 [==============================] - 1s 2ms/step - loss: 1597.8000 - root_mean_squared_error: 39.9725 - mean_squared_error: 1597.8000 - mean_absolute_error: 31.7289 - val_loss: 1630.6299 - val_root_mean_squared_error: 40.3811 - val_mean_squared_error: 1630.6299 - val_mean_absolute_error: 32.1624\n",
      "Epoch 64/100\n",
      "305/305 [==============================] - 1s 2ms/step - loss: 1600.0114 - root_mean_squared_error: 40.0001 - mean_squared_error: 1600.0114 - mean_absolute_error: 31.7672 - val_loss: 1620.6068 - val_root_mean_squared_error: 40.2568 - val_mean_squared_error: 1620.6068 - val_mean_absolute_error: 32.0446\n",
      "Epoch 65/100\n",
      "305/305 [==============================] - 1s 3ms/step - loss: 1594.3037 - root_mean_squared_error: 39.9287 - mean_squared_error: 1594.3037 - mean_absolute_error: 31.7281 - val_loss: 1616.3475 - val_root_mean_squared_error: 40.2038 - val_mean_squared_error: 1616.3475 - val_mean_absolute_error: 31.9422\n",
      "Epoch 66/100\n",
      "305/305 [==============================] - 1s 2ms/step - loss: 1592.3480 - root_mean_squared_error: 39.9042 - mean_squared_error: 1592.3480 - mean_absolute_error: 31.7206 - val_loss: 1638.9722 - val_root_mean_squared_error: 40.4842 - val_mean_squared_error: 1638.9722 - val_mean_absolute_error: 32.1670\n",
      "Epoch 67/100\n",
      "305/305 [==============================] - 1s 3ms/step - loss: 1595.7804 - root_mean_squared_error: 39.9472 - mean_squared_error: 1595.7804 - mean_absolute_error: 31.7216 - val_loss: 1636.8320 - val_root_mean_squared_error: 40.4578 - val_mean_squared_error: 1636.8320 - val_mean_absolute_error: 32.1577\n",
      "Epoch 68/100\n",
      "305/305 [==============================] - 1s 3ms/step - loss: 1597.8274 - root_mean_squared_error: 39.9728 - mean_squared_error: 1597.8274 - mean_absolute_error: 31.7338 - val_loss: 1635.3724 - val_root_mean_squared_error: 40.4397 - val_mean_squared_error: 1635.3724 - val_mean_absolute_error: 32.0892\n",
      "Epoch 69/100\n",
      "305/305 [==============================] - 1s 2ms/step - loss: 1599.1372 - root_mean_squared_error: 39.9892 - mean_squared_error: 1599.1372 - mean_absolute_error: 31.7855 - val_loss: 1616.5212 - val_root_mean_squared_error: 40.2060 - val_mean_squared_error: 1616.5212 - val_mean_absolute_error: 31.9606\n",
      "Epoch 70/100\n",
      "305/305 [==============================] - 1s 2ms/step - loss: 1591.3127 - root_mean_squared_error: 39.8913 - mean_squared_error: 1591.3127 - mean_absolute_error: 31.7126 - val_loss: 1637.9865 - val_root_mean_squared_error: 40.4720 - val_mean_squared_error: 1637.9865 - val_mean_absolute_error: 32.0696\n",
      "Epoch 71/100\n",
      "305/305 [==============================] - 1s 2ms/step - loss: 1593.0809 - root_mean_squared_error: 39.9134 - mean_squared_error: 1593.0809 - mean_absolute_error: 31.7424 - val_loss: 1627.7380 - val_root_mean_squared_error: 40.3452 - val_mean_squared_error: 1627.7380 - val_mean_absolute_error: 32.1082\n",
      "Epoch 72/100\n",
      "305/305 [==============================] - 1s 2ms/step - loss: 1596.9056 - root_mean_squared_error: 39.9613 - mean_squared_error: 1596.9056 - mean_absolute_error: 31.7375 - val_loss: 1628.2365 - val_root_mean_squared_error: 40.3514 - val_mean_squared_error: 1628.2365 - val_mean_absolute_error: 32.0484\n",
      "Epoch 73/100\n",
      "305/305 [==============================] - 1s 2ms/step - loss: 1599.5867 - root_mean_squared_error: 39.9948 - mean_squared_error: 1599.5867 - mean_absolute_error: 31.7677 - val_loss: 1631.9233 - val_root_mean_squared_error: 40.3971 - val_mean_squared_error: 1631.9233 - val_mean_absolute_error: 32.0003\n",
      "Epoch 74/100\n",
      "305/305 [==============================] - 1s 2ms/step - loss: 1597.0922 - root_mean_squared_error: 39.9636 - mean_squared_error: 1597.0922 - mean_absolute_error: 31.6872 - val_loss: 1619.6273 - val_root_mean_squared_error: 40.2446 - val_mean_squared_error: 1619.6273 - val_mean_absolute_error: 32.0169\n",
      "Epoch 75/100\n",
      "305/305 [==============================] - 1s 2ms/step - loss: 1590.5444 - root_mean_squared_error: 39.8816 - mean_squared_error: 1590.5444 - mean_absolute_error: 31.6941 - val_loss: 1610.6406 - val_root_mean_squared_error: 40.1328 - val_mean_squared_error: 1610.6406 - val_mean_absolute_error: 31.8859\n",
      "Epoch 76/100\n",
      "305/305 [==============================] - 1s 2ms/step - loss: 1596.8064 - root_mean_squared_error: 39.9601 - mean_squared_error: 1596.8064 - mean_absolute_error: 31.7192 - val_loss: 1637.5959 - val_root_mean_squared_error: 40.4672 - val_mean_squared_error: 1637.5959 - val_mean_absolute_error: 32.0981\n",
      "Epoch 77/100\n",
      "305/305 [==============================] - 1s 2ms/step - loss: 1592.5736 - root_mean_squared_error: 39.9071 - mean_squared_error: 1592.5736 - mean_absolute_error: 31.6809 - val_loss: 1630.4692 - val_root_mean_squared_error: 40.3791 - val_mean_squared_error: 1630.4692 - val_mean_absolute_error: 32.1082\n",
      "Epoch 78/100\n",
      "305/305 [==============================] - 1s 2ms/step - loss: 1594.8861 - root_mean_squared_error: 39.9360 - mean_squared_error: 1594.8861 - mean_absolute_error: 31.7083 - val_loss: 1635.7446 - val_root_mean_squared_error: 40.4443 - val_mean_squared_error: 1635.7446 - val_mean_absolute_error: 32.1477\n"
     ]
    },
    {
     "name": "stdout",
     "output_type": "stream",
     "text": [
      "Epoch 79/100\n",
      "305/305 [==============================] - 1s 2ms/step - loss: 1587.6371 - root_mean_squared_error: 39.8452 - mean_squared_error: 1587.6371 - mean_absolute_error: 31.6592 - val_loss: 1616.6332 - val_root_mean_squared_error: 40.2074 - val_mean_squared_error: 1616.6332 - val_mean_absolute_error: 31.9434\n",
      "Epoch 80/100\n",
      "305/305 [==============================] - 1s 3ms/step - loss: 1590.9102 - root_mean_squared_error: 39.8862 - mean_squared_error: 1590.9102 - mean_absolute_error: 31.6635 - val_loss: 1666.0651 - val_root_mean_squared_error: 40.8175 - val_mean_squared_error: 1666.0651 - val_mean_absolute_error: 32.4039\n",
      "Epoch 81/100\n",
      "305/305 [==============================] - 1s 3ms/step - loss: 1592.9690 - root_mean_squared_error: 39.9120 - mean_squared_error: 1592.9690 - mean_absolute_error: 31.7049 - val_loss: 1615.0463 - val_root_mean_squared_error: 40.1876 - val_mean_squared_error: 1615.0463 - val_mean_absolute_error: 31.9431\n",
      "Epoch 82/100\n",
      "305/305 [==============================] - 1s 2ms/step - loss: 1588.9098 - root_mean_squared_error: 39.8611 - mean_squared_error: 1588.9098 - mean_absolute_error: 31.6592 - val_loss: 1616.8876 - val_root_mean_squared_error: 40.2105 - val_mean_squared_error: 1616.8876 - val_mean_absolute_error: 32.0109\n",
      "Epoch 83/100\n",
      "305/305 [==============================] - 1s 2ms/step - loss: 1588.0287 - root_mean_squared_error: 39.8501 - mean_squared_error: 1588.0287 - mean_absolute_error: 31.6399 - val_loss: 1619.5812 - val_root_mean_squared_error: 40.2440 - val_mean_squared_error: 1619.5812 - val_mean_absolute_error: 31.9969\n",
      "Epoch 84/100\n",
      "305/305 [==============================] - 1s 2ms/step - loss: 1590.5879 - root_mean_squared_error: 39.8822 - mean_squared_error: 1590.5879 - mean_absolute_error: 31.7114 - val_loss: 1621.4525 - val_root_mean_squared_error: 40.2673 - val_mean_squared_error: 1621.4525 - val_mean_absolute_error: 32.0699\n",
      "Epoch 85/100\n",
      "305/305 [==============================] - 1s 2ms/step - loss: 1590.2498 - root_mean_squared_error: 39.8779 - mean_squared_error: 1590.2498 - mean_absolute_error: 31.7230 - val_loss: 1622.6058 - val_root_mean_squared_error: 40.2816 - val_mean_squared_error: 1622.6058 - val_mean_absolute_error: 31.9448\n",
      "Epoch 86/100\n",
      "305/305 [==============================] - 1s 2ms/step - loss: 1593.3911 - root_mean_squared_error: 39.9173 - mean_squared_error: 1593.3911 - mean_absolute_error: 31.6845 - val_loss: 1626.7095 - val_root_mean_squared_error: 40.3325 - val_mean_squared_error: 1626.7095 - val_mean_absolute_error: 32.0546\n",
      "Epoch 87/100\n",
      "305/305 [==============================] - 1s 2ms/step - loss: 1590.4890 - root_mean_squared_error: 39.8809 - mean_squared_error: 1590.4890 - mean_absolute_error: 31.6780 - val_loss: 1624.3639 - val_root_mean_squared_error: 40.3034 - val_mean_squared_error: 1624.3639 - val_mean_absolute_error: 32.0819\n",
      "Epoch 88/100\n",
      "305/305 [==============================] - 1s 2ms/step - loss: 1591.4812 - root_mean_squared_error: 39.8934 - mean_squared_error: 1591.4812 - mean_absolute_error: 31.6728 - val_loss: 1617.8890 - val_root_mean_squared_error: 40.2230 - val_mean_squared_error: 1617.8890 - val_mean_absolute_error: 32.0410\n",
      "Epoch 89/100\n",
      "305/305 [==============================] - 1s 2ms/step - loss: 1591.8030 - root_mean_squared_error: 39.8974 - mean_squared_error: 1591.8030 - mean_absolute_error: 31.7033 - val_loss: 1624.9495 - val_root_mean_squared_error: 40.3107 - val_mean_squared_error: 1624.9495 - val_mean_absolute_error: 32.0682\n",
      "Epoch 90/100\n",
      "305/305 [==============================] - 1s 3ms/step - loss: 1593.4225 - root_mean_squared_error: 39.9177 - mean_squared_error: 1593.4225 - mean_absolute_error: 31.6864 - val_loss: 1616.5344 - val_root_mean_squared_error: 40.2062 - val_mean_squared_error: 1616.5344 - val_mean_absolute_error: 31.9762\n",
      "Epoch 91/100\n",
      "305/305 [==============================] - 1s 3ms/step - loss: 1589.9095 - root_mean_squared_error: 39.8737 - mean_squared_error: 1589.9095 - mean_absolute_error: 31.6583 - val_loss: 1625.6057 - val_root_mean_squared_error: 40.3188 - val_mean_squared_error: 1625.6057 - val_mean_absolute_error: 31.9739\n",
      "Epoch 92/100\n",
      "305/305 [==============================] - 1s 2ms/step - loss: 1591.8558 - root_mean_squared_error: 39.8981 - mean_squared_error: 1591.8558 - mean_absolute_error: 31.6688 - val_loss: 1626.6454 - val_root_mean_squared_error: 40.3317 - val_mean_squared_error: 1626.6454 - val_mean_absolute_error: 31.9942\n",
      "Epoch 93/100\n",
      "305/305 [==============================] - 1s 3ms/step - loss: 1591.6803 - root_mean_squared_error: 39.8959 - mean_squared_error: 1591.6803 - mean_absolute_error: 31.6558 - val_loss: 1622.7671 - val_root_mean_squared_error: 40.2836 - val_mean_squared_error: 1622.7671 - val_mean_absolute_error: 32.0512\n",
      "Epoch 94/100\n",
      "305/305 [==============================] - 1s 3ms/step - loss: 1591.3230 - root_mean_squared_error: 39.8914 - mean_squared_error: 1591.3230 - mean_absolute_error: 31.6889 - val_loss: 1628.9147 - val_root_mean_squared_error: 40.3598 - val_mean_squared_error: 1628.9147 - val_mean_absolute_error: 32.0095\n",
      "Epoch 95/100\n",
      "305/305 [==============================] - 1s 2ms/step - loss: 1590.9354 - root_mean_squared_error: 39.8865 - mean_squared_error: 1590.9354 - mean_absolute_error: 31.6917 - val_loss: 1618.6854 - val_root_mean_squared_error: 40.2329 - val_mean_squared_error: 1618.6854 - val_mean_absolute_error: 31.9989\n",
      "Epoch 96/100\n",
      "305/305 [==============================] - 1s 2ms/step - loss: 1598.4197 - root_mean_squared_error: 39.9802 - mean_squared_error: 1598.4197 - mean_absolute_error: 31.7298 - val_loss: 1624.3656 - val_root_mean_squared_error: 40.3034 - val_mean_squared_error: 1624.3656 - val_mean_absolute_error: 32.0149\n",
      "Epoch 97/100\n",
      "305/305 [==============================] - 1s 3ms/step - loss: 1589.8395 - root_mean_squared_error: 39.8728 - mean_squared_error: 1589.8395 - mean_absolute_error: 31.6722 - val_loss: 1632.8419 - val_root_mean_squared_error: 40.4084 - val_mean_squared_error: 1632.8419 - val_mean_absolute_error: 31.9742\n",
      "Epoch 98/100\n",
      "305/305 [==============================] - 1s 3ms/step - loss: 1594.0376 - root_mean_squared_error: 39.9254 - mean_squared_error: 1594.0376 - mean_absolute_error: 31.7383 - val_loss: 1629.8638 - val_root_mean_squared_error: 40.3716 - val_mean_squared_error: 1629.8638 - val_mean_absolute_error: 32.0217\n",
      "Epoch 99/100\n",
      "305/305 [==============================] - 1s 2ms/step - loss: 1591.2261 - root_mean_squared_error: 39.8902 - mean_squared_error: 1591.2261 - mean_absolute_error: 31.6540 - val_loss: 1613.3574 - val_root_mean_squared_error: 40.1666 - val_mean_squared_error: 1613.3574 - val_mean_absolute_error: 31.9925\n",
      "Epoch 100/100\n",
      "305/305 [==============================] - 1s 2ms/step - loss: 1589.9957 - root_mean_squared_error: 39.8747 - mean_squared_error: 1589.9957 - mean_absolute_error: 31.6545 - val_loss: 1614.0276 - val_root_mean_squared_error: 40.1750 - val_mean_squared_error: 1614.0276 - val_mean_absolute_error: 31.9474\n"
     ]
    }
   ],
   "source": [
    "tf.debugging.set_log_device_placement(True)\n",
    "history = model.fit(X_train_scaled, y_train, validation_split=0.2, epochs = 100)"
   ]
  },
  {
   "cell_type": "code",
   "execution_count": 24,
   "id": "d541f7af",
   "metadata": {},
   "outputs": [
    {
     "data": {
      "image/png": "[encoded data removed]",
      "text/plain": [
       "<Figure size 432x288 with 1 Axes>"
      ]
     },
     "metadata": {
      "needs_background": "light"
     },
     "output_type": "display_data"
    },
    {
     "data": {
      "image/png": "[encoded data removed]",
      "text/plain": [
       "<Figure size 432x288 with 1 Axes>"
      ]
     },
     "metadata": {
      "needs_background": "light"
     },
     "output_type": "display_data"
    },
    {
     "data": {
      "image/png": "[encoded data removed]",
      "text/plain": [
       "<Figure size 432x288 with 1 Axes>"
      ]
     },
     "metadata": {
      "needs_background": "light"
     },
     "output_type": "display_data"
    },
    {
     "data": {
      "image/png": "[encoded data removed]",
      "text/plain": [
       "<Figure size 432x288 with 1 Axes>"
      ]
     },
     "metadata": {
      "needs_background": "light"
     },
     "output_type": "display_data"
    }
   ],
   "source": [
    "from matplotlib import pyplot as plt\n",
    "\n",
    "loss = history.history['loss']\n",
    "val_loss = history.history['val_loss']\n",
    "epochs = range(1, len(loss) + 1)\n",
    "plt.plot(epochs, loss, 'y', label = 'Training loss')\n",
    "plt.plot(epochs,val_loss, 'r', label = 'Validation loss')\n",
    "plt.title('Training and Validation Loss')\n",
    "plt.xlabel('Epochs')\n",
    "plt.ylabel('Loss')\n",
    "plt.legend()\n",
    "plt.show()\n",
    "\n",
    "\n",
    "mae = history.history['mean_absolute_error']\n",
    "val_mae = history.history['val_mean_absolute_error']\n",
    "plt.plot(epochs, mae, 'y', label = 'Training MAE')\n",
    "plt.plot(epochs, val_mae, 'r', label = 'Validation MAE')\n",
    "plt.title('Training and Validation MAE')\n",
    "plt.xlabel('Epochs')\n",
    "plt.ylabel('Mean Absolute Error')\n",
    "plt.legend()\n",
    "plt.show()\n",
    "\n",
    "rmse = history.history['root_mean_squared_error']\n",
    "val_rmse = history.history['val_root_mean_squared_error']\n",
    "plt.plot(epochs, rmse, 'y', label = 'Training RMSE')\n",
    "plt.plot(epochs, val_rmse, 'r', label = 'Validation RMSE')\n",
    "plt.title('Training and Validation RMSE')\n",
    "plt.xlabel('Epochs')\n",
    "plt.ylabel('Root Mean Squared Error')\n",
    "plt.legend()\n",
    "plt.show()\n",
    "\n",
    "mse = history.history['mean_squared_error']\n",
    "val_mse = history.history['val_mean_squared_error']\n",
    "plt.plot(epochs, mse, 'y', label = 'Training MSE')\n",
    "plt.plot(epochs, val_mse, 'r', label = 'Validation MSE')\n",
    "plt.title('Training and Validation MSE')\n",
    "plt.xlabel('Epochs')\n",
    "plt.ylabel('Mean Squared Error')\n",
    "plt.legend()\n",
    "plt.show()"
   ]
  },
  {
   "cell_type": "code",
   "execution_count": 25,
   "id": "a818f9ea",
   "metadata": {
    "scrolled": true
   },
   "outputs": [
    {
     "name": "stdout",
     "output_type": "stream",
     "text": [
      "Predicted Values are:  [[161.87859 ]\n",
      " [184.5652  ]\n",
      " [118.73661 ]\n",
      " [ 68.28234 ]\n",
      " [125.457634]]\n",
      "Real Values are:  13852    157\n",
      "1444     197\n",
      "3438     192\n",
      "916      139\n",
      "3929      92\n",
      "Name: Final Costs, dtype: int64\n"
     ]
    }
   ],
   "source": [
    "predictions = model.predict(X_test_scaled[:5])\n",
    "print(\"Predicted Values are: \", predictions)\n",
    "print(\"Real Values are: \", y_test[:5])"
   ]
  },
  {
   "cell_type": "code",
   "execution_count": 26,
   "id": "84d77b02",
   "metadata": {},
   "outputs": [],
   "source": [
    "import numpy as np"
   ]
  },
  {
   "cell_type": "code",
   "execution_count": 27,
   "id": "2ee0c28f",
   "metadata": {},
   "outputs": [
    {
     "name": "stdout",
     "output_type": "stream",
     "text": [
      "1638.852462158203\n"
     ]
    }
   ],
   "source": [
    "print(np.mean(val_mse))"
   ]
  },
  {
   "cell_type": "code",
   "execution_count": 28,
   "id": "3ee7ad8a",
   "metadata": {},
   "outputs": [
    {
     "name": "stdout",
     "output_type": "stream",
     "text": [
      "40.47503395080567\n"
     ]
    }
   ],
   "source": [
    "print(np.mean(val_rmse))"
   ]
  },
  {
   "cell_type": "code",
   "execution_count": 29,
   "id": "59d8da5d",
   "metadata": {},
   "outputs": [
    {
     "name": "stdout",
     "output_type": "stream",
     "text": [
      "32.17445203781128\n"
     ]
    }
   ],
   "source": [
    "print(np.mean(val_mae))"
   ]
  },
  {
   "cell_type": "code",
   "execution_count": null,
   "id": "7c44efd0",
   "metadata": {},
   "outputs": [],
   "source": []
  }
 ],
 "metadata": {
  "kernelspec": {
   "display_name": "ML_env",
   "language": "python",
   "name": "ml_env"
  },
  "language_info": {
   "codemirror_mode": {
    "name": "ipython",
    "version": 3
   },
   "file_extension": ".py",
   "mimetype": "text/x-python",
   "name": "python",
   "nbconvert_exporter": "python",
   "pygments_lexer": "ipython3",
   "version": "3.9.7"
  }
 },
 "nbformat": 4,
 "nbformat_minor": 5
}
